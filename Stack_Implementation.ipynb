{
  "nbformat": 4,
  "nbformat_minor": 0,
  "metadata": {
    "colab": {
      "name": "Stack Implementation.ipynb",
      "provenance": [],
      "collapsed_sections": []
    },
    "kernelspec": {
      "name": "python3",
      "display_name": "Python 3"
    },
    "language_info": {
      "name": "python"
    }
  },
  "cells": [
    {
      "cell_type": "code",
      "execution_count": 9,
      "metadata": {
        "colab": {
          "base_uri": "https://localhost:8080/"
        },
        "id": "rwDPBKEFhv4g",
        "outputId": "5a3ae328-90f6-43af-9af1-8a95164cf0c0"
      },
      "outputs": [
        {
          "output_type": "stream",
          "name": "stdout",
          "text": [
            "2nd Alphabet\n"
          ]
        }
      ],
      "source": [
        "s = []\n",
        "s.append('a')\n",
        "s.append('2nd Alphabet')\n",
        "s.append('c')\n",
        "s.append('4th alphabet')\n",
        "s.pop()\n",
        "print(s[-2])"
      ]
    },
    {
      "cell_type": "code",
      "source": [
        "from collections import deque\n",
        "stack= deque()\n",
        "dir(stack)\n"
      ],
      "metadata": {
        "colab": {
          "base_uri": "https://localhost:8080/"
        },
        "id": "cmzyahrUjyIU",
        "outputId": "8d07dd70-4392-4f2a-c947-bf740ddeee4b"
      },
      "execution_count": 16,
      "outputs": [
        {
          "output_type": "execute_result",
          "data": {
            "text/plain": [
              "['__add__',\n",
              " '__bool__',\n",
              " '__class__',\n",
              " '__contains__',\n",
              " '__copy__',\n",
              " '__delattr__',\n",
              " '__delitem__',\n",
              " '__dir__',\n",
              " '__doc__',\n",
              " '__eq__',\n",
              " '__format__',\n",
              " '__ge__',\n",
              " '__getattribute__',\n",
              " '__getitem__',\n",
              " '__gt__',\n",
              " '__hash__',\n",
              " '__iadd__',\n",
              " '__imul__',\n",
              " '__init__',\n",
              " '__init_subclass__',\n",
              " '__iter__',\n",
              " '__le__',\n",
              " '__len__',\n",
              " '__lt__',\n",
              " '__mul__',\n",
              " '__ne__',\n",
              " '__new__',\n",
              " '__reduce__',\n",
              " '__reduce_ex__',\n",
              " '__repr__',\n",
              " '__reversed__',\n",
              " '__rmul__',\n",
              " '__setattr__',\n",
              " '__setitem__',\n",
              " '__sizeof__',\n",
              " '__str__',\n",
              " '__subclasshook__',\n",
              " 'append',\n",
              " 'appendleft',\n",
              " 'clear',\n",
              " 'copy',\n",
              " 'count',\n",
              " 'extend',\n",
              " 'extendleft',\n",
              " 'index',\n",
              " 'insert',\n",
              " 'maxlen',\n",
              " 'pop',\n",
              " 'popleft',\n",
              " 'remove',\n",
              " 'reverse',\n",
              " 'rotate']"
            ]
          },
          "metadata": {},
          "execution_count": 16
        }
      ]
    },
    {
      "cell_type": "code",
      "source": [
        "stack.append(\"pos 1\")\n",
        "stack.append(\"pos 2\")\n",
        "stack.append(\"pos 3\")\n",
        "stack.append(\"pos 4\")\n",
        "stack.append(\"pos 5\")\n"
      ],
      "metadata": {
        "colab": {
          "base_uri": "https://localhost:8080/"
        },
        "id": "-hHJnpt5kvB7",
        "outputId": "c9b61045-1b41-4dd5-bf35-1a73cc8f8eed"
      },
      "execution_count": 20,
      "outputs": [
        {
          "output_type": "stream",
          "name": "stdout",
          "text": [
            "deque(['pos 1', 'pos 2', 'pos 3', 'pos 4', 'pos 5', 'pos 1', 'pos 2', 'pos 3', 'pos 4', 'pos 5', 'pos 1', 'pos 2', 'pos 3', 'pos 4', 'pos 5', 'pos 1', 'pos 2', 'pos 3', 'pos 4', 'pos 5'])\n"
          ]
        }
      ]
    },
    {
      "cell_type": "code",
      "source": [
        "class Stack():\n",
        "  def __init__(self):\n",
        "    self.container=deque()\n",
        "  def pop(self):\n",
        "    return self.container.pop()\n",
        "  def push(self,val):\n",
        "    self.container.append(val)\n",
        "  def peek(self):\n",
        "    return self.container[-1]\n",
        "  def is_empty(self):\n",
        "    return len(self.container)==0\n",
        "  def sizeof(self):\n",
        "    return len(self.container)\n",
        "  \n",
        "s=Stack()\n",
        "s.push('0')\n",
        "s.push('1')\n",
        "s.push('2')\n",
        "s.push('3')\n",
        "s.push('4')\n",
        "print(Stack())"
      ],
      "metadata": {
        "colab": {
          "base_uri": "https://localhost:8080/"
        },
        "id": "cHVm4jL0lK2k",
        "outputId": "c3c2a908-6848-45f8-f56f-89c116e8efe1"
      },
      "execution_count": 35,
      "outputs": [
        {
          "output_type": "stream",
          "name": "stdout",
          "text": [
            "<__main__.Stack object at 0x7fdeeb6c5810>\n"
          ]
        }
      ]
    }
  ]
}